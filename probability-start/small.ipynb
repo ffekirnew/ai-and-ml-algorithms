{
 "cells": [
  {
   "attachments": {},
   "cell_type": "markdown",
   "metadata": {},
   "source": [
    "Load the dataset - 'simple-data.csv'"
   ]
  },
  {
   "cell_type": "code",
   "execution_count": null,
   "metadata": {},
   "outputs": [],
   "source": []
  },
  {
   "attachments": {},
   "cell_type": "markdown",
   "metadata": {},
   "source": [
    "What is the distribution of each of the random variables?"
   ]
  },
  {
   "cell_type": "code",
   "execution_count": null,
   "metadata": {},
   "outputs": [],
   "source": []
  },
  {
   "attachments": {},
   "cell_type": "markdown",
   "metadata": {},
   "source": [
    "Given that the weather is Sunny, what is the probability that the season is Summer?"
   ]
  },
  {
   "cell_type": "code",
   "execution_count": null,
   "metadata": {},
   "outputs": [],
   "source": []
  },
  {
   "attachments": {},
   "cell_type": "markdown",
   "metadata": {},
   "source": [
    "Marginal Probability:\n",
    "- What is the marginal probability of Temperature?\n",
    "- What is the marginal probability of Temperature & Season?\n",
    "- What is the marginal probability of Weather & Season?"
   ]
  },
  {
   "cell_type": "code",
   "execution_count": null,
   "metadata": {},
   "outputs": [],
   "source": []
  },
  {
   "attachments": {},
   "cell_type": "markdown",
   "metadata": {},
   "source": [
    "What is the joint distribution of weather and season given that the temperature is Hot?"
   ]
  },
  {
   "cell_type": "code",
   "execution_count": null,
   "metadata": {},
   "outputs": [],
   "source": []
  },
  {
   "attachments": {},
   "cell_type": "markdown",
   "metadata": {},
   "source": [
    "The following are related question. work on each questions:\n",
    "- (1) what is the conditional probability of *Weather = Sunny* given that *Season = Spring*?\n",
    "- (2) What is the probability of *Spring*?\n",
    "- (3) What is the conditional probability of *Season = Spring* given that *Weather = Sunny*?\n",
    "- (4) What is the probability of *Sunny*?\n",
    "- (5) What is the probability of *Weather = Sunny* and *Season = Spring*?\n",
    "- (6) Are the following three values equal? if not why?\n",
    "    - product of (1) & (2)\n",
    "    - product of (3) & (4)\n",
    "    - (5)"
   ]
  },
  {
   "cell_type": "code",
   "execution_count": null,
   "metadata": {},
   "outputs": [],
   "source": []
  },
  {
   "attachments": {},
   "cell_type": "markdown",
   "metadata": {},
   "source": [
    "In the above questions, you counted everything, and it works.\n",
    "Sometimes, that may not be the case always. \n",
    "\n",
    "Imagine you can't count the number of *Sunny* days. Hence you can't compute *p(spring|sunny)* and *p(sunny)*. \n",
    "\n",
    "Compute or estimate the *p(spring|sunny)* without counting *p(spring|sunny)* and *p(sunny)*.\n",
    "\n",
    "You can count anything but *p(spring|sunny)* & *p(sunny)*.\n",
    "- What formula did you came up with?"
   ]
  },
  {
   "cell_type": "code",
   "execution_count": null,
   "metadata": {},
   "outputs": [],
   "source": []
  }
 ],
 "metadata": {
  "kernelspec": {
   "display_name": "base",
   "language": "python",
   "name": "python3"
  },
  "language_info": {
   "codemirror_mode": {
    "name": "ipython",
    "version": 3
   },
   "file_extension": ".py",
   "mimetype": "text/x-python",
   "name": "python",
   "nbconvert_exporter": "python",
   "pygments_lexer": "ipython3",
   "version": "3.9.5"
  },
  "orig_nbformat": 4
 },
 "nbformat": 4,
 "nbformat_minor": 2
}
