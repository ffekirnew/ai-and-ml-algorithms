{
 "cells": [
  {
   "attachments": {},
   "cell_type": "markdown",
   "metadata": {},
   "source": [
    "Load the dataset - 'train.csv' \\\n",
    "Each raw in the file contains the following values of weather value. \n",
    "- first column -> Continent\n",
    "- second column -> Season\n",
    "- third column -> Wind Speed\n",
    "- fourth column -> Location\n",
    "- fifth column -> Weather\n",
    "- sixth column -> Temperature"
   ]
  },
  {
   "cell_type": "code",
   "execution_count": 36,
   "metadata": {},
   "outputs": [],
   "source": [
    "data_x = []\n",
    "data_y = []"
   ]
  },
  {
   "attachments": {},
   "cell_type": "markdown",
   "metadata": {},
   "source": [
    "Use Naive Bayes to predict Temperature from the factors"
   ]
  },
  {
   "cell_type": "code",
   "execution_count": 38,
   "metadata": {},
   "outputs": [],
   "source": [
    "def featureize(input_x, input_y):\n",
    "    # change the inputs to features\n",
    "    # return new x and y\n",
    "    pass\n",
    "\n",
    "def train(train_data_x, train_data_y):\n",
    "    # your Naive Bayes Code Here\n",
    "    # return a model that given a the four factors, \n",
    "        # returns probability distribution over the possible outcomes of the temperature\n",
    "    pass\n",
    "\n",
    "def validate(val_data_x, val_data_y):\n",
    "    # validation code here\n",
    "    # for every sample in the data, \n",
    "        # check whether the sample is correctly predicted by the model\n",
    "        # return the fraction of accurate predictions\n",
    "    pass\n",
    "\n",
    "def test(test_data_x, val_data_x):\n",
    "    # test code here\n",
    "    # for every sample in the data, \n",
    "        # check whether the sample is correctly predicted by the model\n",
    "        # return the fraction of accurate predictions\n",
    "    pass\n",
    "\n",
    "feature_x = []\n",
    "feature_y = []\n",
    "for x, y in zip(data_x, data_y):\n",
    "    x, y = featureize(x, y)\n",
    "    feature_x.append(x)\n",
    "    feature_y.append(y)\n",
    "\n",
    "model = train(feature_x, feature_y)"
   ]
  },
  {
   "attachments": {},
   "cell_type": "markdown",
   "metadata": {},
   "source": [
    "Load the dataset - 'validate.csv'"
   ]
  },
  {
   "cell_type": "code",
   "execution_count": null,
   "metadata": {},
   "outputs": [],
   "source": [
    "val_x, val_y = [], []\n",
    "feature_x = []\n",
    "feature_y = []\n",
    "for x, y in zip(val_x, val_y):\n",
    "    x, y = featureize(x, y)\n",
    "    feature_x.append(x)\n",
    "    feature_y.append(y)\n",
    "\n",
    "val_acc = validate(feature_x, feature_y)\n",
    "\n",
    "print(f'Validation Accuracy: {val_acc}')"
   ]
  },
  {
   "attachments": {},
   "cell_type": "markdown",
   "metadata": {},
   "source": [
    "Load the dataset - 'test.csv'"
   ]
  },
  {
   "cell_type": "code",
   "execution_count": 40,
   "metadata": {},
   "outputs": [
    {
     "name": "stdout",
     "output_type": "stream",
     "text": [
      "Test Accuracy: None\n"
     ]
    }
   ],
   "source": [
    "test_x, test_y = [], []\n",
    "feature_x = []\n",
    "feature_y = []\n",
    "for x, y in zip(test_x, test_y):\n",
    "    x, y = featureize(x, y)\n",
    "    feature_x.append(x)\n",
    "    feature_y.append(y)\n",
    "\n",
    "test_acc = test(feature_x, feature_y)\n",
    "\n",
    "print(f'Test Accuracy: {test_acc}')"
   ]
  },
  {
   "cell_type": "code",
   "execution_count": null,
   "metadata": {},
   "outputs": [],
   "source": []
  }
 ],
 "metadata": {
  "kernelspec": {
   "display_name": "base",
   "language": "python",
   "name": "python3"
  },
  "language_info": {
   "codemirror_mode": {
    "name": "ipython",
    "version": 3
   },
   "file_extension": ".py",
   "mimetype": "text/x-python",
   "name": "python",
   "nbconvert_exporter": "python",
   "pygments_lexer": "ipython3",
   "version": "3.9.5"
  },
  "orig_nbformat": 4
 },
 "nbformat": 4,
 "nbformat_minor": 2
}
