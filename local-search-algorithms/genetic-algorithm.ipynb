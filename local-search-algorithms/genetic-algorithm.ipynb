{
 "cells": [
  {
   "attachments": {},
   "cell_type": "markdown",
   "metadata": {},
   "source": [
    "# Genetic Algorithm (The Knapsack Problem)"
   ]
  },
  {
   "attachments": {},
   "cell_type": "markdown",
   "metadata": {},
   "source": [
    "### Import important modules and define the types we will be using"
   ]
  },
  {
   "cell_type": "code",
   "execution_count": 2,
   "metadata": {},
   "outputs": [],
   "source": [
    "from random import choice\n",
    "import numpy as np"
   ]
  },
  {
   "cell_type": "code",
   "execution_count": 3,
   "metadata": {},
   "outputs": [],
   "source": [
    "from collections import namedtuple\n",
    "from typing import List\n",
    "\n",
    "Genome = List[int]\n",
    "Population = List[Genome]\n",
    "Thing = namedtuple('Thing', ['name', 'value', 'weight'])"
   ]
  },
  {
   "attachments": {},
   "cell_type": "markdown",
   "metadata": {},
   "source": [
    "### Write code to generate randome genomes and populations"
   ]
  },
  {
   "cell_type": "code",
   "execution_count": 4,
   "metadata": {},
   "outputs": [],
   "source": [
    "def generate_random_genome(length: int):\n",
    "    return [choice([0, 1]) for _ in range(length)]\n"
   ]
  },
  {
   "cell_type": "code",
   "execution_count": 5,
   "metadata": {},
   "outputs": [],
   "source": [
    "def generate_random_population(size: int, genome_length: int):\n",
    "    return [ generate_random_genome(genome_length) for _ in range(size) ]"
   ]
  },
  {
   "attachments": {},
   "cell_type": "markdown",
   "metadata": {},
   "source": [
    "### Write code to find the fitness of each genome"
   ]
  },
  {
   "cell_type": "code",
   "execution_count": 6,
   "metadata": {},
   "outputs": [],
   "source": [
    "def fitness(genome: Genome, things: List[Thing], weight_limit: int) -> int:\n",
    "    if len(genome) != len(things):\n",
    "        raise ValueError('The length of the genome should be equal with the length of the things.')\n",
    "    \n",
    "    total_weight = 0\n",
    "    for i, thing in enumerate(things):\n",
    "        total_weight += thing.weight\n",
    "\n",
    "        if total_weight > weight_limit:\n",
    "            return 0\n",
    "\n",
    "    total_value = sum(things[i].value for i in range(len(genome)) if genome[i])\n",
    "    return total_value"
   ]
  },
  {
   "cell_type": "markdown",
   "metadata": {},
   "source": [
    "### Generate data to test the code"
   ]
  },
  {
   "cell_type": "code",
   "execution_count": 7,
   "metadata": {},
   "outputs": [
    {
     "name": "stdout",
     "output_type": "stream",
     "text": [
      "[0, 1, 0, 0, 0] 20\n",
      "[1, 0, 1, 0, 1] 90\n",
      "[0, 1, 1, 0, 0] 50\n",
      "[1, 1, 1, 1, 1] 150\n",
      "[0, 0, 0, 1, 1] 90\n",
      "[0, 1, 0, 0, 1] 70\n",
      "[0, 0, 1, 0, 0] 30\n",
      "[0, 1, 1, 1, 0] 90\n",
      "[0, 0, 1, 0, 1] 80\n",
      "[1, 1, 0, 1, 1] 120\n"
     ]
    }
   ],
   "source": [
    "things = [    Thing(name='item1', value=10, weight=5),    Thing(name='item2', value=20, weight=10),    Thing(name='item3', value=30, weight=15),    Thing(name='item4', value=40, weight=20),    Thing(name='item5', value=50, weight=25)]\n",
    "\n",
    "weight_limit = 500\n",
    "genome_length = len(things)\n",
    "population_size = 10\n",
    "\n",
    "population = generate_random_population(population_size, genome_length)\n",
    "\n",
    "for genome in population:\n",
    "    print(genome, fitness(genome, things, weight_limit))\n"
   ]
  },
  {
   "attachments": {},
   "cell_type": "markdown",
   "metadata": {},
   "source": [
    "### Implement the Selection Code"
   ]
  },
  {
   "cell_type": "code",
   "execution_count": 8,
   "metadata": {},
   "outputs": [],
   "source": [
    "def selection(population: Population, things: List[Thing], weight_limit: int) -> Population:\n",
    "    scores = [fitness(genome, things, weight_limit) for genome in population]\n",
    "    total_score = sum(scores)\n",
    "    selection_probs = [score / total_score for score in scores]\n",
    "    chosen = [population[i] for i in np.random.choice(range(len(population)), size=len(population), p=selection_probs)]\n",
    "    parents = [(chosen[i], chosen[i+1]) for i in range(0, len(chosen), 2)]\n",
    "    return [parent[0] + parent[1] for parent in parents]\n"
   ]
  },
  {
   "cell_type": "markdown",
   "metadata": {},
   "source": [
    "### Implement cross-over and mutation functions"
   ]
  },
  {
   "cell_type": "code",
   "execution_count": 9,
   "metadata": {},
   "outputs": [],
   "source": [
    "def crossover(parents: Population, offspring_size: int) -> Population:\n",
    "    offspring = []\n",
    "    for i in range(offspring_size):\n",
    "        parent1, parent2 = parents[i]\n",
    "        crossover_point = np.random.randint(1, len(parent1))\n",
    "        child = parent1[:crossover_point] + parent2[crossover_point:]\n",
    "        offspring.append(child)\n",
    "    return offspring\n",
    "\n",
    "\n",
    "def mutation(offspring: Population, mutation_rate: float) -> Population:\n",
    "    for i in range(len(offspring)):\n",
    "        if np.random.random() < mutation_rate:\n",
    "            point = np.random.randint(0, len(offspring[i]))\n",
    "            offspring[i][point] = 1 - offspring[i][point]\n",
    "    return offspring\n"
   ]
  },
  {
   "attachments": {},
   "cell_type": "markdown",
   "metadata": {},
   "source": [
    "### Run the finalized code"
   ]
  },
  {
   "cell_type": "code",
   "execution_count": 10,
   "metadata": {},
   "outputs": [
    {
     "ename": "ValueError",
     "evalue": "too many values to unpack (expected 2)",
     "output_type": "error",
     "traceback": [
      "\u001b[0;31m---------------------------------------------------------------------------\u001b[0m",
      "\u001b[0;31mValueError\u001b[0m                                Traceback (most recent call last)",
      "\u001b[1;32m/home/ffekirnew/code/class-files/fundamentals-of-ai/local-search-algorithms/genetic-algorithm.ipynb Cell 17\u001b[0m in \u001b[0;36m8\n\u001b[1;32m      <a href='vscode-notebook-cell:/home/ffekirnew/code/class-files/fundamentals-of-ai/local-search-algorithms/genetic-algorithm.ipynb#X24sZmlsZQ%3D%3D?line=5'>6</a>\u001b[0m \u001b[39mfor\u001b[39;00m i \u001b[39min\u001b[39;00m \u001b[39mrange\u001b[39m(\u001b[39m100\u001b[39m):\n\u001b[1;32m      <a href='vscode-notebook-cell:/home/ffekirnew/code/class-files/fundamentals-of-ai/local-search-algorithms/genetic-algorithm.ipynb#X24sZmlsZQ%3D%3D?line=6'>7</a>\u001b[0m     parents \u001b[39m=\u001b[39m selection(population, things, weight_limit)\n\u001b[0;32m----> <a href='vscode-notebook-cell:/home/ffekirnew/code/class-files/fundamentals-of-ai/local-search-algorithms/genetic-algorithm.ipynb#X24sZmlsZQ%3D%3D?line=7'>8</a>\u001b[0m     offspring \u001b[39m=\u001b[39m crossover(parents, population_size)\n\u001b[1;32m      <a href='vscode-notebook-cell:/home/ffekirnew/code/class-files/fundamentals-of-ai/local-search-algorithms/genetic-algorithm.ipynb#X24sZmlsZQ%3D%3D?line=8'>9</a>\u001b[0m     mutated_offspring \u001b[39m=\u001b[39m mutation(offspring)\n\u001b[1;32m     <a href='vscode-notebook-cell:/home/ffekirnew/code/class-files/fundamentals-of-ai/local-search-algorithms/genetic-algorithm.ipynb#X24sZmlsZQ%3D%3D?line=9'>10</a>\u001b[0m     population \u001b[39m=\u001b[39m selection(mutated_offspring, things, weight_limit)\n",
      "\u001b[1;32m/home/ffekirnew/code/class-files/fundamentals-of-ai/local-search-algorithms/genetic-algorithm.ipynb Cell 17\u001b[0m in \u001b[0;36m4\n\u001b[1;32m      <a href='vscode-notebook-cell:/home/ffekirnew/code/class-files/fundamentals-of-ai/local-search-algorithms/genetic-algorithm.ipynb#X24sZmlsZQ%3D%3D?line=1'>2</a>\u001b[0m offspring \u001b[39m=\u001b[39m []\n\u001b[1;32m      <a href='vscode-notebook-cell:/home/ffekirnew/code/class-files/fundamentals-of-ai/local-search-algorithms/genetic-algorithm.ipynb#X24sZmlsZQ%3D%3D?line=2'>3</a>\u001b[0m \u001b[39mfor\u001b[39;00m i \u001b[39min\u001b[39;00m \u001b[39mrange\u001b[39m(offspring_size):\n\u001b[0;32m----> <a href='vscode-notebook-cell:/home/ffekirnew/code/class-files/fundamentals-of-ai/local-search-algorithms/genetic-algorithm.ipynb#X24sZmlsZQ%3D%3D?line=3'>4</a>\u001b[0m     parent1, parent2 \u001b[39m=\u001b[39m parents[i]\n\u001b[1;32m      <a href='vscode-notebook-cell:/home/ffekirnew/code/class-files/fundamentals-of-ai/local-search-algorithms/genetic-algorithm.ipynb#X24sZmlsZQ%3D%3D?line=4'>5</a>\u001b[0m     crossover_point \u001b[39m=\u001b[39m np\u001b[39m.\u001b[39mrandom\u001b[39m.\u001b[39mrandint(\u001b[39m1\u001b[39m, \u001b[39mlen\u001b[39m(parent1))\n\u001b[1;32m      <a href='vscode-notebook-cell:/home/ffekirnew/code/class-files/fundamentals-of-ai/local-search-algorithms/genetic-algorithm.ipynb#X24sZmlsZQ%3D%3D?line=5'>6</a>\u001b[0m     child \u001b[39m=\u001b[39m parent1[:crossover_point] \u001b[39m+\u001b[39m parent2[crossover_point:]\n",
      "\u001b[0;31mValueError\u001b[0m: too many values to unpack (expected 2)"
     ]
    }
   ],
   "source": [
    "population_size = 10\n",
    "genome_length = len(things)\n",
    "\n",
    "population = generate_random_population(population_size, genome_length)\n",
    "\n",
    "for i in range(100):\n",
    "    parents = selection(population, things, weight_limit)\n",
    "    offspring = crossover(parents, population_size)\n",
    "    mutated_offspring = mutation(offspring)\n",
    "    population = selection(mutated_offspring, things, weight_limit)\n",
    "\n",
    "best_genome = max(population, key=lambda genome: fitness(genome, things, weight_limit))\n",
    "print(f\"The best genome is: {best_genome}\")\n",
    "print(f\"Its fitness score is: {fitness(best_genome, things, weight_limit)}\")\n"
   ]
  },
  {
   "cell_type": "code",
   "execution_count": null,
   "metadata": {},
   "outputs": [],
   "source": []
  }
 ],
 "metadata": {
  "kernelspec": {
   "display_name": "Python 3",
   "language": "python",
   "name": "python3"
  },
  "language_info": {
   "codemirror_mode": {
    "name": "ipython",
    "version": 3
   },
   "file_extension": ".py",
   "mimetype": "text/x-python",
   "name": "python",
   "nbconvert_exporter": "python",
   "pygments_lexer": "ipython3",
   "version": "3.11.2"
  },
  "orig_nbformat": 4
 },
 "nbformat": 4,
 "nbformat_minor": 2
}
