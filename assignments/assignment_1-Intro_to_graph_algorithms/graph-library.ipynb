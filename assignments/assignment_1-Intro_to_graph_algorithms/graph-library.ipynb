{
 "cells": [
  {
   "attachments": {},
   "cell_type": "markdown",
   "metadata": {},
   "source": [
    "# Graph Library\n",
    "<p>The following is a graph library that will contain the functionalities: creating a node, inserting and deletign nodes and edges to the graph, and search for an item in the graph.</p>\n",
    "<p>First off, graphs can be implemented in various ways but I am going to try and do it with dictionaries.</p>"
   ]
  },
  {
   "attachments": {},
   "cell_type": "markdown",
   "metadata": {},
   "source": [
    "<h4>Graph Node</h4>\n",
    "<p>Will first implement a graph node..."
   ]
  },
  {
   "cell_type": "code",
   "execution_count": 10,
   "metadata": {},
   "outputs": [],
   "source": [
    "class GraphNode:\n",
    "    def __init__(self, name) -> None:\n",
    "        self.name: any = name\n",
    "        self.neighbours: set(GraphNode) = []\n",
    "    \n",
    "    def add_children(self, neighbour) -> None:\n",
    "        self.neighbours.add(neighbour)\n",
    "    \n",
    "    def delete_children(self, neighbour) -> bool:\n",
    "        if neighbour in self.neighbours:\n",
    "            del self.neighbours[neighbour]\n",
    "            return True\n",
    "        \n",
    "        return False"
   ]
  },
  {
   "attachments": {},
   "cell_type": "markdown",
   "metadata": {},
   "source": [
    "With it, we can now implement the graph."
   ]
  },
  {
   "cell_type": "code",
   "execution_count": 7,
   "metadata": {},
   "outputs": [],
   "source": [
    "class Graph:\n",
    "    def __init__(self) -> None:\n",
    "        self.graph: list[GraphNode] = []\n",
    "\n",
    "    def add_node(self, node_val) -> None:\n",
    "        if node_val not in self.graph:\n",
    "            self.graph[node_val] = {}\n",
    "    \n",
    "    def add_edge(self, from_node, to_node):\n",
    "        self.add_node(from_node)\n",
    "        self.add_node(to_node)\n",
    "\n",
    "        self.graph[from_node].append(to_node)\n",
    "        self.graph[to_node].append(from_node)"
   ]
  },
  {
   "cell_type": "code",
   "execution_count": 3,
   "metadata": {},
   "outputs": [],
   "source": [
    "from collections import defaultdict"
   ]
  },
  {
   "attachments": {},
   "cell_type": "markdown",
   "metadata": {},
   "source": [
    "<h3>A. Create a Node</h3>"
   ]
  },
  {
   "cell_type": "code",
   "execution_count": null,
   "metadata": {},
   "outputs": [],
   "source": []
  }
 ],
 "metadata": {
  "kernelspec": {
   "display_name": "Python 3 (ipykernel)",
   "language": "python",
   "name": "python3"
  },
  "language_info": {
   "codemirror_mode": {
    "name": "ipython",
    "version": 3
   },
   "file_extension": ".py",
   "mimetype": "text/x-python",
   "name": "python",
   "nbconvert_exporter": "python",
   "pygments_lexer": "ipython3",
   "version": "3.10.7"
  },
  "orig_nbformat": 4
 },
 "nbformat": 4,
 "nbformat_minor": 2
}
