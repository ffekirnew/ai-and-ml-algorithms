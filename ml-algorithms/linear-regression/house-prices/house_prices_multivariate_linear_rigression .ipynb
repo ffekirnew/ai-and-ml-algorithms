{
 "cells": [
  {
   "cell_type": "markdown",
   "metadata": {},
   "source": [
    "# House Prices: Linear Regression"
   ]
  },
  {
   "attachments": {},
   "cell_type": "markdown",
   "metadata": {},
   "source": [
    "# Step I: Remember\n",
    "I am trying to implement here the single-variate linear regression, so I have to pick one feature and the label is the price. For that, just to follow from the provider of the dataset - the book `Grokking Machine Learning`, I will choose number of bedrooms as the feature.\n",
    "\n",
    "I will do two things in this part.\n",
    "- Define the types to be used in this file\n",
    "- Import and prepare the data"
   ]
  },
  {
   "cell_type": "code",
   "execution_count": 2,
   "metadata": {},
   "outputs": [],
   "source": [
    "import random\n",
    "\n",
    "from typing import List, Tuple\n",
    "\n",
    "Feature = float\n",
    "FeatureVector = List[Feature]\n",
    "Label = float\n",
    "Dataset = List[Tuple[FeatureVector, Label]]\n",
    "LearningRate = float\n",
    "Epoch = int\n",
    "Weight = float\n",
    "Weights = List[Weight]\n",
    "Bias = float"
   ]
  },
  {
   "cell_type": "code",
   "execution_count": 28,
   "metadata": {},
   "outputs": [],
   "source": [
    "import csv\n",
    "\n",
    "with open('hyderabad.csv', mode='r') as csv_file:\n",
    "    csv_reader = csv.DictReader(csv_file)\n",
    "    crude_data = list(csv_reader)\n",
    "\n",
    "data = []\n",
    "for row in crude_data:\n",
    "    data.append({'Price': 0, 'FeatureVector': []})\n",
    "    for key, value in row.items():\n",
    "        if key == 'Price':\n",
    "            data[-1]['Price'] = float(value)\n",
    "        elif key != 'Location':\n",
    "            data[-1]['FeatureVector'].append(float(value))"
   ]
  },
  {
   "attachments": {},
   "cell_type": "markdown",
   "metadata": {},
   "source": [
    "# Step II: Formulate"
   ]
  },
  {
   "cell_type": "code",
   "execution_count": 34,
   "metadata": {},
   "outputs": [],
   "source": [
    "class MultivariateLinearRigression:\n",
    "    def __init__(self, dataset: Dataset, learning_rate: LearningRate, epochs: Epoch) -> None:\n",
    "        self.dataset = dataset\n",
    "        self.learning_rate = learning_rate\n",
    "        self.epochs = epochs\n",
    "    \n",
    "    def multivariate_linear_regression(self) -> None:\n",
    "        weights: Weights = [random.random() for _ in range(len(self.dataset[0][0]))]\n",
    "        bias: Bias = random.random()\n",
    "\n",
    "        for _ in range(self.epochs):\n",
    "            feature_vector, label = random.choice(self.dataset)\n",
    "\n",
    "            weight, bias = self.__square_loss(weights, bias, feature_vector, label)\n",
    "        \n",
    "        return weight, bias\n",
    "    \n",
    "    def __square_loss(self, weights: Weights, bias: Bias, feature_vector: FeatureVector, label: Label) -> Tuple[Weight, Bias]:\n",
    "        prediction = self.__predict(weights, bias, feature_vector)\n",
    "        error = prediction - label\n",
    "\n",
    "        for i, weight in enumerate(weights):\n",
    "            weights[i] += self.learning_rate * feature_vector[i] * error\n",
    "        bias += self.learning_rate * error\n",
    "\n",
    "        return weights, bias\n",
    "    \n",
    "    def __predict(self, weights: Weights, bias: Bias, feature_vector: FeatureVector) -> Label:\n",
    "        return sum(weight * feature for weight, feature in zip(weights, feature_vector)) + bias"
   ]
  },
  {
   "attachments": {},
   "cell_type": "markdown",
   "metadata": {},
   "source": [
    "# Step III: Predict\n",
    "The prediction function is the same as that was in the class."
   ]
  },
  {
   "cell_type": "code",
   "execution_count": 35,
   "metadata": {},
   "outputs": [],
   "source": [
    "def predict(weights: Weights, bias: Bias, feature_vector: FeatureVector) -> Label:\n",
    "    return sum(weight * feature for weight, feature in zip(weights, feature_vector)) + bias"
   ]
  },
  {
   "attachments": {},
   "cell_type": "markdown",
   "metadata": {},
   "source": [
    "# Demonstration"
   ]
  },
  {
   "cell_type": "code",
   "execution_count": 36,
   "metadata": {},
   "outputs": [
    {
     "name": "stdout",
     "output_type": "stream",
     "text": [
      "[nan, nan, nan, nan, nan, nan, nan, nan, nan, nan, nan, nan, nan, nan, nan, nan, nan, nan, nan, nan, nan, nan, nan, nan, nan, nan, nan, nan, nan, nan, nan, nan, nan, nan, nan, nan, nan, nan] nan\n",
      "Accuracy: 0.0\n"
     ]
    }
   ],
   "source": [
    "# get the dataset for the multivariate linear regression, the dataset is a list of dictionaries, just convert it to a list of tuples\n",
    "dataset = [(row['FeatureVector'], row['Price']) for row in data]\n",
    "training_set_size = int(0.8 * len(dataset))\n",
    "\n",
    "training_set = dataset[:training_set_size]\n",
    "test_set = dataset[training_set_size:]\n",
    "\n",
    "# Uncomment the following lines to test the algorithm with a small dataset\n",
    "# training_set = list(zip([1,2,3,5,6,7], [155, 197, 244, 356,407,448]))\n",
    "\n",
    "house_price_prediction = MultivariateLinearRigression(training_set, 0.001, 100_000)\n",
    "slope, intercept = house_price_prediction.multivariate_linear_regression()\n",
    "print(slope, intercept)\n",
    "\n",
    "correct_predictions, incorrect_predictions = 0, 0\n",
    "for feature, label in test_set:\n",
    "    predicted = predict(slope, intercept, feature)\n",
    "\n",
    "    if predicted == label:\n",
    "        correct_predictions += 1\n",
    "    else:\n",
    "        incorrect_predictions += 1\n",
    "\n",
    "print(f'Accuracy: {correct_predictions / (correct_predictions + incorrect_predictions)}')"
   ]
  },
  {
   "cell_type": "code",
   "execution_count": null,
   "metadata": {},
   "outputs": [
    {
     "data": {
      "text/plain": [
       "[<matplotlib.lines.Line2D at 0x7fcf3aa113d0>]"
      ]
     },
     "execution_count": 150,
     "metadata": {},
     "output_type": "execute_result"
    },
    {
     "data": {
      "image/png": "[encoded data removed]",
      "text/plain": [
       "<Figure size 640x480 with 1 Axes>"
      ]
     },
     "metadata": {},
     "output_type": "display_data"
    }
   ],
   "source": [
    "# Ploting the graph\n",
    "import matplotlib.pyplot as plt\n",
    "\n",
    "# plot the training set\n",
    "plt.scatter([feature for feature, label in training_set], [label for feature, label in training_set], color='red')\n",
    "\n",
    "# plot the slope and intercept\n",
    "plt.plot([feature for feature, label in training_set], [predict(slope, intercept, feature) for feature, label in training_set], color='blue')"
   ]
  },
  {
   "cell_type": "code",
   "execution_count": null,
   "metadata": {},
   "outputs": [],
   "source": []
  }
 ],
 "metadata": {
  "kernelspec": {
   "display_name": "venv",
   "language": "python",
   "name": "python3"
  },
  "language_info": {
   "codemirror_mode": {
    "name": "ipython",
    "version": 3
   },
   "file_extension": ".py",
   "mimetype": "text/x-python",
   "name": "python",
   "nbconvert_exporter": "python",
   "pygments_lexer": "ipython3",
   "version": "3.11.2"
  },
  "orig_nbformat": 4
 },
 "nbformat": 4,
 "nbformat_minor": 2
}
