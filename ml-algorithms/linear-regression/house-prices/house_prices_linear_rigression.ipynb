{
 "cells": [
  {
   "cell_type": "markdown",
   "metadata": {},
   "source": [
    "# House Prices: Linear Regression"
   ]
  },
  {
   "attachments": {},
   "cell_type": "markdown",
   "metadata": {},
   "source": [
    "# Step I: Remember\n",
    "I am trying to implement here the single-variate linear regression, so I have to pick one feature and the label is the price. For that, just to follow from the provider of the dataset - the book `Grokking Machine Learning`, I will choose number of bedrooms as the feature.\n",
    "\n",
    "I will do two things in this part.\n",
    "- Define the types to be used in this file\n",
    "- Import and prepare the data"
   ]
  },
  {
   "cell_type": "code",
   "execution_count": 152,
   "metadata": {},
   "outputs": [],
   "source": [
    "from typing import List, Tuple\n",
    "import random\n",
    "\n",
    "Feature = float\n",
    "Label = float\n",
    "Dataset = List[Tuple[Feature, Label]]\n",
    "LearningRate = float\n",
    "Epoch = int"
   ]
  },
  {
   "cell_type": "code",
   "execution_count": 153,
   "metadata": {},
   "outputs": [],
   "source": [
    "import csv\n",
    "\n",
    "with open('hyderabad.csv', mode='r') as csv_file:\n",
    "    csv_reader = csv.DictReader(csv_file)\n",
    "    data = list(csv_reader)"
   ]
  },
  {
   "attachments": {},
   "cell_type": "markdown",
   "metadata": {},
   "source": [
    "# Step II: Formulate"
   ]
  },
  {
   "cell_type": "code",
   "execution_count": 154,
   "metadata": {},
   "outputs": [],
   "source": [
    "class LinearRigression:\n",
    "    def __init__(self, dataset: Dataset, learning_rate: LearningRate, epochs: Epoch) -> None:\n",
    "        self.dataset = dataset\n",
    "        self.learning_rate = learning_rate\n",
    "        self.epochs = epochs\n",
    "    \n",
    "    def linear_regression(self) -> None:\n",
    "        weight = random.random()\n",
    "        bias = random.random()\n",
    "\n",
    "        for _ in range(self.epochs):\n",
    "            feature, label = random.choice(self.dataset)\n",
    "            weight, bias = self.__square_loss(weight, bias, feature, label)\n",
    "        \n",
    "        \n",
    "        return weight, bias\n",
    "    \n",
    "    def __square_loss(self, weight: float, bias: float, feature: Feature, label: Label) -> Tuple[float, float]:\n",
    "        predicted = weight * feature + bias\n",
    "        error = predicted - label\n",
    "\n",
    "        weight -= (self.learning_rate * error * feature)\n",
    "        bias -= (self.learning_rate * error)\n",
    "\n",
    "        return weight, bias"
   ]
  },
  {
   "attachments": {},
   "cell_type": "markdown",
   "metadata": {},
   "source": [
    "# Step III: Predict\n",
    "Now, with the weight of the feature and the bias know, just predict prices given the no. of bedrooms."
   ]
  },
  {
   "cell_type": "code",
   "execution_count": 155,
   "metadata": {},
   "outputs": [],
   "source": [
    "def predict(slope: float, intercept: float, feature: Feature) -> Label:\n",
    "    return slope * feature + intercept"
   ]
  },
  {
   "attachments": {},
   "cell_type": "markdown",
   "metadata": {},
   "source": [
    "# Demonstration"
   ]
  },
  {
   "cell_type": "code",
   "execution_count": 156,
   "metadata": {},
   "outputs": [
    {
     "name": "stdout",
     "output_type": "stream",
     "text": [
      "7969083.973675383 -10731613.416374568\n",
      "Accuracy: 0.0\n"
     ]
    }
   ],
   "source": [
    "dataset: Dataset = list(zip([float(d['No. of Bedrooms']) for d in data], [float(d['Price']) for d in data]))\n",
    "training_set_size = int(0.8 * len(dataset))\n",
    "\n",
    "training_set = dataset[:training_set_size]\n",
    "test_set = dataset[training_set_size:]\n",
    "\n",
    "# Uncomment the following lines to test the algorithm with a small dataset\n",
    "# training_set = list(zip([1,2,3,5,6,7], [155, 197, 244, 356,407,448]))\n",
    "\n",
    "house_price_prediction = LinearRigression(training_set, 0.001, 100_000)\n",
    "slope, intercept = house_price_prediction.linear_regression()\n",
    "print(slope, intercept)\n",
    "\n",
    "correct_predictions, incorrect_predictions = 0, 0\n",
    "for feature, label in test_set:\n",
    "    predicted = predict(slope, intercept, feature)\n",
    "\n",
    "    if predicted == label:\n",
    "        correct_predictions += 1\n",
    "    else:\n",
    "        incorrect_predictions += 1\n",
    "\n",
    "print(f'Accuracy: {correct_predictions / (correct_predictions + incorrect_predictions)}')"
   ]
  },
  {
   "cell_type": "code",
   "execution_count": 157,
   "metadata": {},
   "outputs": [
    {
     "data": {
      "text/plain": [
       "[<matplotlib.lines.Line2D at 0x7fcf3ac9cd90>]"
      ]
     },
     "execution_count": 157,
     "metadata": {},
     "output_type": "execute_result"
    },
    {
     "data": {
      "image/png": "[encoded data removed]",
      "text/plain": [
       "<Figure size 640x480 with 1 Axes>"
      ]
     },
     "metadata": {},
     "output_type": "display_data"
    }
   ],
   "source": [
    "# Ploting the graph\n",
    "import matplotlib.pyplot as plt\n",
    "\n",
    "# plot the training set\n",
    "plt.scatter([feature for feature, label in training_set], [label for feature, label in training_set], color='red')\n",
    "\n",
    "# plot the slope and intercept\n",
    "plt.plot([feature for feature, label in training_set], [predict(slope, intercept, feature) for feature, label in training_set], color='blue')"
   ]
  },
  {
   "cell_type": "code",
   "execution_count": null,
   "metadata": {},
   "outputs": [],
   "source": []
  }
 ],
 "metadata": {
  "kernelspec": {
   "display_name": "venv",
   "language": "python",
   "name": "python3"
  },
  "language_info": {
   "codemirror_mode": {
    "name": "ipython",
    "version": 3
   },
   "file_extension": ".py",
   "mimetype": "text/x-python",
   "name": "python",
   "nbconvert_exporter": "python",
   "pygments_lexer": "ipython3",
   "version": "3.11.2"
  },
  "orig_nbformat": 4
 },
 "nbformat": 4,
 "nbformat_minor": 2
}
