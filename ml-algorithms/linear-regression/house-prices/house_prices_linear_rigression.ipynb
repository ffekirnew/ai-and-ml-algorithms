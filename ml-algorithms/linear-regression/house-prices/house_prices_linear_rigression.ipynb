{
 "cells": [
  {
   "cell_type": "markdown",
   "metadata": {},
   "source": [
    "# House Prices: Linear Regression"
   ]
  },
  {
   "attachments": {},
   "cell_type": "markdown",
   "metadata": {},
   "source": [
    "# Step I: Remember\n",
    "I am trying to implement here the single-variate linear regression, so I have to pick one feature and the label is the price. For that, just to follow from the provider of the dataset - the book `Grokking Machine Learning`, I will choose number of bedrooms as the feature.\n",
    "\n",
    "I will do two things in this part.\n",
    "- Define the types to be used in this file\n",
    "- Import and prepare the data"
   ]
  },
  {
   "cell_type": "code",
   "execution_count": null,
   "metadata": {},
   "outputs": [],
   "source": [
    "from typing import List, Tuple\n",
    "\n",
    "Feature = float\n",
    "Label = float\n",
    "Dataset = List[Tuple[Feature, Label]]\n",
    "LearningRate = float\n",
    "Epoch = int"
   ]
  },
  {
   "cell_type": "code",
   "execution_count": 4,
   "metadata": {},
   "outputs": [
    {
     "data": {
      "text/plain": [
       "2518"
      ]
     },
     "execution_count": 4,
     "metadata": {},
     "output_type": "execute_result"
    }
   ],
   "source": [
    "import csv\n",
    "\n",
    "with open('hyderabad.csv', mode='r') as csv_file:\n",
    "    csv_reader = csv.DictReader(csv_file)\n",
    "    data = list(csv_reader)\n",
    "data = zip([float(row['No. of BedroomsNo. of Bedrooms']) iiiiNodjfor row in data], [float(row['price']) for row in data])"
   ]
  },
  {
   "cell_type": "code",
   "execution_count": null,
   "metadata": {},
   "outputs": [],
   "source": []
  }
 ],
 "metadata": {
  "kernelspec": {
   "display_name": "venv",
   "language": "python",
   "name": "python3"
  },
  "language_info": {
   "codemirror_mode": {
    "name": "ipython",
    "version": 3
   },
   "file_extension": ".py",
   "mimetype": "text/x-python",
   "name": "python",
   "nbconvert_exporter": "python",
   "pygments_lexer": "ipython3",
   "version": "3.11.2"
  },
  "orig_nbformat": 4
 },
 "nbformat": 4,
 "nbformat_minor": 2
}
