{
 "cells": [
  {
   "attachments": {},
   "cell_type": "markdown",
   "metadata": {},
   "source": [
    "# Linear Rigression\n",
    "\n",
    "I am trying to implement the `remember-formulate-predict` framework from the book `Grokking Machine Learning`, I am simply implementing the single-variate linear regression, so the steps `remember` and `predict` are assumed to be done elsewhere. follow along with me!"
   ]
  },
  {
   "attachments": {},
   "cell_type": "markdown",
   "metadata": {},
   "source": [
    "You can follow what I am doing from the book's third chapter `Drawing a line close to our point: Linear Regression`. The deliverable of this process is the model, the formula. A simple line formula in the form:\n",
    "\n",
    "`y = mx + b`, \n",
    "where:\n",
    "- `x` a feature\n",
    "- `y` is the label\n",
    "- `m` is a weight for the only feature and\n",
    "- `b` is the bias.\n",
    "\n",
    "The plan here is to be able to guess `m` and `b` so that once given an `x` the model can predict the value of `y`. and my plan is as follows:\n",
    "- Get the dataset\n",
    "- Randomly generate `m` and `b`\n",
    "- Iteratively improve `m` and `b` so that they are closer to the datapoints\n",
    "- Return the final formula (slope and intercept)"
   ]
  },
  {
   "attachments": {},
   "cell_type": "markdown",
   "metadata": {},
   "source": [
    "## Step I: Importing necessary packages"
   ]
  },
  {
   "cell_type": "code",
   "execution_count": 2,
   "metadata": {},
   "outputs": [],
   "source": [
    "import random"
   ]
  },
  {
   "attachments": {},
   "cell_type": "markdown",
   "metadata": {},
   "source": [
    "# Step II: Training"
   ]
  },
  {
   "attachments": {},
   "cell_type": "markdown",
   "metadata": {},
   "source": [
    "Since this is a single variable linear regression, the dataset will contain one feature, and one label. We start coding by defining the data types that we will be using."
   ]
  },
  {
   "cell_type": "code",
   "execution_count": 1,
   "metadata": {},
   "outputs": [],
   "source": [
    "from typing import List, Tuple\n",
    "\n",
    "Feature = float\n",
    "Label = float\n",
    "Dataset = List[Tuple[Feature, Label]]\n",
    "LearningRate = float\n",
    "Epoch = int"
   ]
  },
  {
   "cell_type": "code",
   "execution_count": null,
   "metadata": {},
   "outputs": [],
   "source": [
    "class LinearRigression:\n",
    "    def __init__(self, dataset: Dataset, learning_rate: LearningRate, epochs: Epoch) -> None:\n",
    "        self.dataset = dataset\n",
    "        self.learning_rate = learning_rate\n",
    "        self.epochs = epochs\n",
    "    \n",
    "    def train(self) -> None:\n",
    "        slope = random.radom()\n",
    "        intercept = random.random()\n",
    "\n",
    "        for epoch in range(self.epochs):\n",
    "            feature, label = random.choice(self.dataset)\n",
    "\n",
    "            slope, intercept = self._square_loss(slope, intercept, feature, label)\n",
    "        \n",
    "        return slope, intercept\n",
    "    \n",
    "    def _square_loss(self, slope: float, intercept: float, feature: Feature, label: Label) -> Tuple[float, float]:\n",
    "        predicted = slope * feature + intercept\n",
    "        error = predicted - label\n",
    "\n",
    "        slope = slope + (self.learning_rate * error * feature)\n",
    "        intercept = intercept + (self.learning_rate * error)\n",
    "\n",
    "        return slope, intercept"
   ]
  }
 ],
 "metadata": {
  "kernelspec": {
   "display_name": "venv",
   "language": "python",
   "name": "python3"
  },
  "language_info": {
   "codemirror_mode": {
    "name": "ipython",
    "version": 3
   },
   "file_extension": ".py",
   "mimetype": "text/x-python",
   "name": "python",
   "nbconvert_exporter": "python",
   "pygments_lexer": "ipython3",
   "version": "3.11.2"
  },
  "orig_nbformat": 4
 },
 "nbformat": 4,
 "nbformat_minor": 2
}
