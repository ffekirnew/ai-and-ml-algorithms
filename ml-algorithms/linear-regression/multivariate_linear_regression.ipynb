{
 "cells": [
  {
   "attachments": {},
   "cell_type": "markdown",
   "metadata": {},
   "source": [
    "# Multivariate Linear Rigression\n",
    "\n",
    "I am trying to implement the `remember-formulate-predict` framework from the book `Grokking Machine Learning`, I am simply implementing the single-variate linear regression, so the steps `remember` and `predict` are assumed to be done elsewhere. follow along with me!"
   ]
  },
  {
   "attachments": {},
   "cell_type": "markdown",
   "metadata": {},
   "source": [
    "The general case will consist of a dataset of m points and n features. Thus, the model has m\n",
    "weights (think of them as the generalization of the slope) and one bias. The notation follows:\n",
    "- The data points are `x`<sup>(`1`)</sup>, `x`<sup>(`2`)</sup>, … , `x`<sup>(`m`)</sup>. Each point is of the for`m` `x`<sup>(`i`)</sup> = (`x`<sub>`1`</sub><sup>(`i`)</sup>, `x`<sub>`2`</sub><sup>(`i`)</sup>, … , `x`<sub>`n`</sub><sup>(`i`)</sup>).\n",
    "- The corresponding labels are `y`<sub>`1`</sub>, `y`<sub>`2`</sub>, … , `y`<sub>`m`</sub>.\n",
    "- The weights of the model are `w`<sub>`1`</sub>, `w`<sub>`2`</sub>, … , `w`<sub>`m`</sub>.\n",
    "- The bias of the model is `b`.\n",
    "\n",
    "The plan here is to be able to guess each `w`<sub>`i`</sub> and `b` so that once given the `x`s the model can predict the value of `y`. and my plan is as follows:\n",
    "- Get the dataset\n",
    "- Randomly generate `w`<sub>`i`</sub> and `b`\n",
    "- Iteratively improve the `w`<sub>`i`</sub> and `b` so that they are closer to the datapoints\n",
    "- Return the final formula (slope and intercept)"
   ]
  },
  {
   "attachments": {},
   "cell_type": "markdown",
   "metadata": {},
   "source": [
    "## Step I: Implementation"
   ]
  },
  {
   "attachments": {},
   "cell_type": "markdown",
   "metadata": {},
   "source": [
    "### Necessary imports and types declaration"
   ]
  },
  {
   "cell_type": "code",
   "execution_count": 2,
   "metadata": {},
   "outputs": [],
   "source": [
    "import random\n",
    "\n",
    "from typing import List, Tuple\n",
    "\n",
    "Feature = float\n",
    "FeatureVector = List[Feature]\n",
    "Label = float\n",
    "Dataset = List[Tuple[FeatureVector, Label]]\n",
    "LearningRate = float\n",
    "Epoch = int\n",
    "Weight = float\n",
    "Weights = List[Weight]\n",
    "Bias = float"
   ]
  },
  {
   "attachments": {},
   "cell_type": "markdown",
   "metadata": {},
   "source": [
    "### Implementation"
   ]
  },
  {
   "cell_type": "code",
   "execution_count": 3,
   "metadata": {},
   "outputs": [],
   "source": [
    "class MultivariateLinearRigression:\n",
    "    def __init__(self, dataset: Dataset, learning_rate: LearningRate, epochs: Epoch) -> None:\n",
    "        self.dataset = dataset\n",
    "        self.learning_rate = learning_rate\n",
    "        self.epochs = epochs\n",
    "    \n",
    "    def train(self) -> None:\n",
    "        weights: Weights = [random.random() for _ in range(len(self.dataset[0][0]))]\n",
    "        bias: Bias = random.random()\n",
    "\n",
    "        for epoch in range(self.epochs):\n",
    "            feature_vector, label = random.choice(self.dataset)\n",
    "\n",
    "            weight, bias = self._square_loss(weight, bias, feature_vector, label)\n",
    "        \n",
    "        return weight, bias\n",
    "    \n",
    "    def __square_loss(self, weight: Weight, bias: Bias, feature_vector: FeatureVector, label: Label) -> Tuple[Weight, Bias]:\n",
    "        prediction = self.__predict(weight, bias, feature_vector)\n",
    "        error = prediction - label\n",
    "\n",
    "        weight_gradient = error * feature_vector\n",
    "        bias_gradient = error\n",
    "\n",
    "        weight -= self.learning_rate * weight_gradient\n",
    "        bias -= self.learning_rate * bias_gradient\n",
    "\n",
    "        return weight, bias\n",
    "    \n",
    "    def __predict(self, weight: Weight, bias: Bias, feature_vector: FeatureVector) -> Label:\n",
    "        return sum(weight * feature for weight, feature in zip(weight, feature_vector)) + bias"
   ]
  }
 ],
 "metadata": {
  "kernelspec": {
   "display_name": "venv",
   "language": "python",
   "name": "python3"
  },
  "language_info": {
   "codemirror_mode": {
    "name": "ipython",
    "version": 3
   },
   "file_extension": ".py",
   "mimetype": "text/x-python",
   "name": "python",
   "nbconvert_exporter": "python",
   "pygments_lexer": "ipython3",
   "version": "3.11.2"
  },
  "orig_nbformat": 4
 },
 "nbformat": 4,
 "nbformat_minor": 2
}
